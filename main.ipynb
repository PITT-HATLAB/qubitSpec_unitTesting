{
 "cells": [
  {
   "cell_type": "code",
   "execution_count": 2,
   "metadata": {},
   "outputs": [],
   "source": [
    "import qutip\n",
    "# TODO implement this to make sure notebook runs correctly and can reproduce plots\n",
    "# https://nbviewer.org/urls/qutip.org/qutip-tutorials/tutorials-v4/lectures/Lecture-10-cQED-dispersive-regime.ipynb"
   ]
  }
 ],
 "metadata": {
  "kernelspec": {
   "display_name": "spec_venv",
   "language": "python",
   "name": "python3"
  },
  "language_info": {
   "codemirror_mode": {
    "name": "ipython",
    "version": 3
   },
   "file_extension": ".py",
   "mimetype": "text/x-python",
   "name": "python",
   "nbconvert_exporter": "python",
   "pygments_lexer": "ipython3",
   "version": "3.10.9"
  },
  "orig_nbformat": 4,
  "vscode": {
   "interpreter": {
    "hash": "46678ffa5e4eb86a39b2ce1747dc97206cfd0b489b774814b3f10708873ec26c"
   }
  }
 },
 "nbformat": 4,
 "nbformat_minor": 2
}
