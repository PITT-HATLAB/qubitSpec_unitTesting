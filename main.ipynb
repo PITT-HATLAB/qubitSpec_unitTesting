{
 "cells": [
  {
   "cell_type": "code",
   "execution_count": 92,
   "metadata": {},
   "outputs": [],
   "source": [
    "import qutip\n",
    "# first step was to implement this to make sure notebook runs correctly and can reproduce plots\n",
    "# https://nbviewer.org/urls/qutip.org/qutip-tutorials/tutorials-v4/lectures/Lecture-10-cQED-dispersive-regime.ipynb"
   ]
  },
  {
   "cell_type": "code",
   "execution_count": 93,
   "metadata": {},
   "outputs": [],
   "source": [
    "import matplotlib as mpl\n",
    "import matplotlib.pyplot as plt\n",
    "import numpy as np\n",
    "from qutip import (Options, about, basis, coherent, correlation, destroy,\n",
    "                   expect, mesolve, ptrace, qeye, sigmax, sigmaz,\n",
    "                   spectrum_correlation_fft, tensor, wigner)\n",
    "\n",
    "%matplotlib widget\n",
    "from tqdm import tqdm\n",
    "import numpy as np"
   ]
  },
  {
   "cell_type": "code",
   "execution_count": 94,
   "metadata": {},
   "outputs": [],
   "source": [
    "#TODO add class model params physical, noise included, physical can't chagen it noise cavity and qubit frequency\n",
    "#TODO make many physical models and have experiment interface with it\n",
    "#TODO mvc model view controller programming\n",
    "#TODO experiment class instantiate with model"
   ]
  },
  {
   "cell_type": "code",
   "execution_count": 95,
   "metadata": {},
   "outputs": [],
   "source": [
    "#initiate and hold physical properties of system\n",
    "#meant to be passed to experiment class to be worked on\n",
    "#TODO change automatic params to be realistic, this is Rebecca making up numbers\n",
    "class Model: \n",
    "    \n",
    "    def __init__(self, cavityFreq = 3, cavityDecay = .1, qubitFreq = 10, qubitDecay = .01, noise = 0):\n",
    "        self.cavityFreq = cavityFreq\n",
    "        self.cavityDecay = cavityDecay\n",
    "        self.qubitFreq = qubitFreq\n",
    "        self.qubitDecay = qubitDecay\n",
    "        self.noise = noise\n",
    "    \n",
    "    \n",
    "    "
   ]
  },
  {
   "cell_type": "code",
   "execution_count": null,
   "metadata": {},
   "outputs": [],
   "source": [
    "\n",
    "\n",
    "\n",
    "def dispersive_readout():\n",
    "    N = 10\n",
    "    wr, wq, chi = 7.5*np.pi, 5.0*np.pi, 0.002*2*np.pi\n",
    "    psi0 = tensor(basis(N, 0), (basis(2, 0)).unit())\n",
    "    tlist = np.linspace(0, 250,100)\n",
    "\n",
    "    # cavity operators\n",
    "    a = tensor(destroy(N), qeye(2))\n",
    "\n",
    "    # atomic operators\n",
    "    sm = tensor(qeye(N), destroy(2))\n",
    "    sz = tensor(qeye(N), sigmaz())\n",
    "\n",
    "    Id = tensor(qeye(N), qeye(2))\n",
    "    \n",
    "    qubitH = sm.dag() + sm\n",
    "\n",
    "    cavH = a.dag() + a\n",
    "\n",
    "    cavityFrequency_list = np.linspace(-2*wr, 2*wr, 100)\n",
    "    qubit_bool = 1\n",
    "\n",
    "    def qub_coeff(self, t, args):\n",
    "        wd = wq\n",
    "        return qubit_bool * self.qubDrivAmp * np.cos(wd * t) #np.exp(-((t-50) / 50) ** 2) \n",
    "    \n",
    "    def cav_coeff(self, t, args):\n",
    "        wd = self.args['wd']\n",
    "        return self.cavDrivAmp * np.cos(wd * t) #np.exp(-((t-50) / 50) ** 2) * \n",
    "\n",
    "    # H0 is the time-independent part\n",
    "    H0 = wr * (a.dag() * a + Id / 2.0) + (wq / 2.0) * sz - (chi/2) *(a.dag() * a ) * sz\n",
    "\n",
    "    H = [H0, [qubitH, qub_coeff], [cavH, cav_coeff]]\n",
    "\n",
    "    for frequency in cavityFrequency_list:\n",
    "        res = mesolve(H, psi0, tlist, [], [], options=Options(nsteps=5000), args={'wd':frequency})\n",
    "\n",
    "        self.nc_list = expect(self.nc, res.states)\n",
    "        self.nq_list = expect(self.nq, res.states)\n",
    "        \n",
    "        expectedNC_list.append(self.nc_list[-1])\n",
    "        expectedNQ_list.append(self.nq_list[-1])\n",
    "\n",
    "     #meant to use with outputs from mesolve, x-axis driving freq, y-axis N number\n",
    "    def plotFreq_N(self, freq_list, NC_list, NQ_list):\n",
    "        frequencies = freq_list\n",
    "        expectedNC_list = NC_list\n",
    "        expectedNQ_list = NQ_list\n",
    "\n",
    "        fig, ax = plt.subplots(1, 1, sharex=True, figsize=(12, 4))\n",
    "        \n",
    "        ax.plot(frequencies, expectedNC_list, \"b--\", linewidth=2, label=\"expected Cavity N\", marker = 'o')\n",
    "        ax.plot(frequencies, expectedNQ_list, \"r\", linewidth=2, label=\"expected Qubit N\", marker = 'o')\n",
    "        ax.set_ylabel(\"N\", fontsize=16)\n",
    "        ax.set_xlabel(\"Drive Frequency\", fontsize=16)\n",
    "        ax.legend()\n",
    "\n",
    "        fig.tight_layout()\n",
    "\n",
    "\n",
    "\n",
    "    \n",
    "    \n",
    "\n",
    "    \n",
    "    "
   ]
  },
  {
   "cell_type": "code",
   "execution_count": 96,
   "metadata": {},
   "outputs": [],
   "source": [
    "class Experiment:\n",
    "    # N number of initial photons\n",
    "    #q qubit drive amp qubDrivAmp\n",
    "    #c cavity Drive amp cavDrivAmp\n",
    "    #decayQ is decay operator on the qubit\n",
    "    #decayC is decay operator on the cavity TODO\n",
    "    N = 10\n",
    "    wr, wq, chi = 4.0*np.pi, 4.0*np.pi, 0.025*2*np.pi\n",
    "    args = {'wd':wq+.1*wq}\n",
    "    tlist = np.linspace(0, 250,100)\n",
    "\n",
    "    #todo clean up so not as messy looking, below is all variables\n",
    "\n",
    "    delta = abs(wr - wq)  # detuning\n",
    "    g = np.sqrt(delta * chi)  # coupling strength that is consistent with chi\n",
    "\n",
    "    # cavity operators\n",
    "    a = tensor(destroy(N), qeye(2))\n",
    "    nc = a.dag() * a\n",
    "    xc = a + a.dag()\n",
    "\n",
    "    # atomic operators\n",
    "    sm = tensor(qeye(N), destroy(2))\n",
    "    sz = tensor(qeye(N), sigmaz())\n",
    "    sx = tensor(qeye(N), sigmax())\n",
    "    nq = sm.dag() * sm\n",
    "    xq = sm + sm.dag()\n",
    "\n",
    "    Id = tensor(qeye(N), qeye(2))\n",
    "    psi0 = tensor(basis(N, 0), (basis(2, 0)).unit())\n",
    "       \n",
    "    # H0 is the time-independent part\n",
    "    H0 = wr * (a.dag() * a + Id / 2.0) + (wq / 2.0) * sz - (chi/2) *(a.dag() * a ) * sz\n",
    "\n",
    "    # H1 + are the time-dependent terms\n",
    "    #qubit\n",
    "    qubitH = sm.dag() + sm\n",
    "\n",
    "    # collapse operators for qubit and cavity\n",
    "    decayQ = .0001\n",
    "    decayC = .1\n",
    "    c_ops = [np.sqrt(decayQ) * sm, np.sqrt(decayC)*a] #decays on qubit\n",
    "\n",
    "\n",
    "\n",
    "    #Can pass N, qubDrivAmp, cavDrivAmp\n",
    "    def __init__(self, q = 1, c = 2 ) -> None:\n",
    "        self.qubDrivAmp = q\n",
    "        self.cavDrivAmp = c\n",
    "        # sqrt{nbar} = e_c/sqrt{kappa}\n",
    "        assert self.qubDrivAmp/np.sqrt(self.decayQ) <=1\n",
    "\n",
    "   \n",
    "\n",
    "    # NOTE this does not use RWA \n",
    "\n",
    "    # TODO add ramp up time using tanh\n",
    "    #TODO make param for h1 qubitDriveAmp, h2 cavity\n",
    "    #VNApower\n",
    "    def qub_coeff(self, t, args):\n",
    "        wd = self.args['wd']\n",
    "        return 0* self.qubDrivAmp * np.cos(wd * t) #np.exp(-((t-50) / 50) ** 2) \n",
    "\n",
    "    \n",
    "    # H1 + are the time-dependent terms\n",
    "    #cavity\n",
    "    cavH = a.dag() + a\n",
    "\n",
    "    # NOTE this does not use RWA \n",
    "    def cav_coeff(self, t, args):\n",
    "        wd = self.args['wd']\n",
    "        return self.cavDrivAmp * np.cos(wd * t) #np.exp(-((t-50) / 50) ** 2) * \n",
    "\n",
    "    #TODO question how to seperate decay on qubit and cavity, seem to be interlinked rn\n",
    "    #TODO move decays to model\n",
    "    #decay on qubit update\n",
    "    def setDecayQ(self, d):\n",
    "        self.decayQ = d\n",
    "        self.c_ops = [np.sqrt(self.decayQ) * self.sm, np.sqrt(self.decayC) * self.a] #recalc decay on qubit\n",
    "\n",
    "    def setDecayC(self, c):\n",
    "        self.decayC = c\n",
    "        self.c_ops = [np.sqrt(self.decayQ) * self.sm, np.sqrt(self.decayC) * self.a] #recalc decay on qubit\n",
    "\n",
    "    def converge(self, f_list, maxDiff_percent = 1) -> bool:\n",
    "        \"\"\"maxDiff is percent of how far off the values can be, returns true if close enough, false if not\"\"\"\n",
    "        minVal = min(f_list)\n",
    "        maxVal = max(f_list)\n",
    "\n",
    "        diffCheck = maxVal - minVal\n",
    "\n",
    "        if diffCheck > (maxDiff_percent *.01 * maxVal):\n",
    "            return False\n",
    "        else:\n",
    "            return True\n",
    "\n",
    "    #meant to use with outputs from mesolve, x-axis driving freq, y-axis N number\n",
    "    def plotFreq_N(self, freq_list, NC_list, NQ_list):\n",
    "        frequencies = freq_list\n",
    "        expectedNC_list = NC_list\n",
    "        expectedNQ_list = NQ_list\n",
    "\n",
    "        fig, ax = plt.subplots(1, 1, sharex=True, figsize=(12, 4))\n",
    "        \n",
    "        ax.plot(frequencies, expectedNC_list, \"b--\", linewidth=2, label=\"expected Cavity N\", marker = 'o')\n",
    "        ax.plot(frequencies, expectedNQ_list, \"r\", linewidth=2, label=\"expected Qubit N\", marker = 'o')\n",
    "        ax.set_ylabel(\"N\", fontsize=16)\n",
    "        ax.set_xlabel(\"Drive Frequency\", fontsize=16)\n",
    "        ax.legend()\n",
    "\n",
    "        fig.tight_layout()\n",
    "        \n",
    "    #solves for testNumber diff frequencies in the given range and plots the last value from mesolve\n",
    "    #uses whatever model values already have, or default model values\n",
    "    def masterSolve(self, startFreq = 30, endFreq=50, testNumber=20 ):\n",
    "        frequencies_list = self.generateTestFreq(startFreq, endFreq, testNumber)\n",
    "        expectedNC_list  = []\n",
    "        expectedNQ_list = []\n",
    "\n",
    "        for i in tqdm(range(testNumber)):\n",
    "\n",
    "            self.args['wd'] = frequencies_list[i]\n",
    "\n",
    "            H = [self.H0, [self.qubitH, self.qub_coeff], [self.cavH, self.cav_coeff]]\n",
    "\n",
    "            res = mesolve(H, self.psi0, self.tlist, self.c_ops, [], options=Options(nsteps=5000), args=self.args)\n",
    "\n",
    "            self.nc_list = expect(self.nc, res.states)\n",
    "            self.nq_list = expect(self.nq, res.states)\n",
    "            \n",
    "            expectedNC_list.append(self.nc_list[-1])\n",
    "            expectedNQ_list.append(self.nq_list[-1])\n",
    "\n",
    "        self.plotFreq_N(frequencies_list, expectedNC_list, expectedNQ_list)\n",
    "            \n",
    "\n",
    "          \n",
    "    #m is Model, can pass in model to use in calculations\n",
    "    #solves for testNumber diff frequencies in the given range and plots the last value from mesolve\n",
    "    def masterSolve_model(self, m, startFreq = 30, endFreq=50, testNumber=20 ):\n",
    "        frequencies = self.generateTestFreq(startFreq, endFreq, testNumber)\n",
    "        expectedNC_list  = []\n",
    "        expectedNQ_list = []\n",
    "\n",
    "        self.setDecayC(m.cavityDecay)\n",
    "        self.setDecayQ(m.qubitDecay)\n",
    "\n",
    "        for i in tqdm(range(testNumber)):\n",
    "\n",
    "            self.args['wd'] = frequencies[i]\n",
    "\n",
    "            H = [self.H0, [self.qubitH, self.qub_coeff], [self.cavH, self.cav_coeff]]\n",
    "\n",
    "            res = mesolve(H, self.psi0, self.tlist, self.c_ops, [], options=Options(nsteps=5000), args=self.args)\n",
    "\n",
    "            self.nc_list = expect(self.nc, res.states)\n",
    "            self.nq_list = expect(self.nq, res.states)\n",
    "\n",
    "            cavityValid = self.converge(self.nc_list[-5:], 30) #checks for 30% convergence\n",
    "            qubitValid = self.converge(self.nq_list[-5:], 30)\n",
    "\n",
    "            #if either didn't converge, do not show plot\n",
    "            if cavityValid and qubitValid:\n",
    "                expectedNC_list.append(self.nc_list[-1])\n",
    "                expectedNQ_list.append(self.nq_list[-1])\n",
    "            else: #rerun simulation to converge\n",
    "                #TODO find which params to adjust for simul rerun\n",
    "                print('Did not converge, rerun simulation')\n",
    "                print(\"start and end freq: \" + str(startFreq) + \" \" + str(endFreq))\n",
    "                break\n",
    "\n",
    "        if cavityValid and qubitValid and (i == testNumber-1):\n",
    "            #check if enough testnumbers\n",
    "            if testNumber > 19:\n",
    "                self.plotFreq_N(frequencies, expectedNC_list, expectedNQ_list)\n",
    "            else: #if converged but not enough testnumbers rerun\n",
    "                self.masterSolve_model(m, startFreq, endFreq, 20) \n",
    "        else:\n",
    "            #update start and end freq?, how to choose greater or lower?\n",
    "            if i != 0:\n",
    "                freq_scalar = 1.2\n",
    "                startFreq = startFreq\n",
    "                endFreq = 1.8 * (endFreq - startFreq)\n",
    "                self.masterSolve_model(m, startFreq, endFreq, 5) \n",
    "            else:\n",
    "                freq_scalar = 1.05\n",
    "                startFreq = freq_scalar * startFreq\n",
    "                endFreq = freq_scalar * endFreq\n",
    "                self.masterSolve_model(m, startFreq, endFreq, 5) \n",
    "\n",
    "        \n",
    "   \n",
    "    #generate list of test frequencies to use in mastersolve to model drive frequencies\n",
    "    def generateTestFreq(self, startFreq, endFreq, testNumber):\n",
    "        startFreq = startFreq\n",
    "        endFreq = endFreq\n",
    "        increment = (endFreq-startFreq)/testNumber\n",
    "\n",
    "        freqRange = []\n",
    "        for i in range(testNumber):\n",
    "           freqRange.append(startFreq + (i*increment))\n",
    "        \n",
    "        return freqRange\n",
    "        \n",
    "\n",
    "    \n",
    "    #plots Time vs N from nc_list and nq_list\n",
    "    def plotN_time(self):\n",
    "        fig, ax = plt.subplots(1, 1, sharex=True, figsize=(12, 4))\n",
    "        \n",
    "        ax.plot(self.tlist, self.nc_list, \"r\", linewidth=2, label=\"cavity\")\n",
    "        ax.plot(self.tlist, self.nq_list, \"b--\", linewidth=2, label=\"qubit\")\n",
    "        ax.set_ylim(0, 7)\n",
    "        ax.set_ylabel(\"n\", fontsize=16)\n",
    "        ax.set_xlabel(\"Time (ns)\", fontsize=16)\n",
    "        ax.legend()\n",
    "\n",
    "        fig.tight_layout()\n",
    "\n",
    "    #calls mesolve and plot     \n",
    "    def solveshow(self):\n",
    "        self.masterSolve()\n",
    "        self.plotN_time()\n",
    "\n",
    "\n",
    "\n",
    "    "
   ]
  },
  {
   "cell_type": "code",
   "execution_count": 97,
   "metadata": {},
   "outputs": [
    {
     "name": "stderr",
     "output_type": "stream",
     "text": [
      "  0%|          | 0/10 [00:06<?, ?it/s]\n"
     ]
    },
    {
     "name": "stdout",
     "output_type": "stream",
     "text": [
      "Did not converge, rerun simulation\n",
      "start and end freq: 8 16\n"
     ]
    },
    {
     "name": "stderr",
     "output_type": "stream",
     "text": [
      "  0%|          | 0/5 [00:06<?, ?it/s]\n"
     ]
    },
    {
     "name": "stdout",
     "output_type": "stream",
     "text": [
      "Did not converge, rerun simulation\n",
      "start and end freq: 8.4 16.8\n"
     ]
    },
    {
     "name": "stderr",
     "output_type": "stream",
     "text": [
      "  0%|          | 0/5 [00:04<?, ?it/s]\n"
     ]
    },
    {
     "name": "stdout",
     "output_type": "stream",
     "text": [
      "Did not converge, rerun simulation\n",
      "start and end freq: 8.82 17.64\n"
     ]
    },
    {
     "name": "stderr",
     "output_type": "stream",
     "text": [
      "  0%|          | 0/5 [00:04<?, ?it/s]\n"
     ]
    },
    {
     "name": "stdout",
     "output_type": "stream",
     "text": [
      "Did not converge, rerun simulation\n",
      "start and end freq: 9.261000000000001 18.522000000000002\n"
     ]
    },
    {
     "name": "stderr",
     "output_type": "stream",
     "text": [
      "  0%|          | 0/5 [00:04<?, ?it/s]\n"
     ]
    },
    {
     "name": "stdout",
     "output_type": "stream",
     "text": [
      "Did not converge, rerun simulation\n",
      "start and end freq: 9.724050000000002 19.448100000000004\n"
     ]
    },
    {
     "name": "stderr",
     "output_type": "stream",
     "text": [
      "  0%|          | 0/5 [00:04<?, ?it/s]\n"
     ]
    },
    {
     "name": "stdout",
     "output_type": "stream",
     "text": [
      "Did not converge, rerun simulation\n",
      "start and end freq: 10.210252500000003 20.420505000000006\n"
     ]
    },
    {
     "name": "stderr",
     "output_type": "stream",
     "text": [
      " 60%|██████    | 3/5 [00:17<00:11,  5.92s/it]\n"
     ]
    },
    {
     "name": "stdout",
     "output_type": "stream",
     "text": [
      "Did not converge, rerun simulation\n",
      "start and end freq: 10.720765125000003 21.441530250000007\n"
     ]
    },
    {
     "name": "stderr",
     "output_type": "stream",
     "text": [
      " 80%|████████  | 4/5 [00:22<00:05,  5.53s/it]\n"
     ]
    },
    {
     "name": "stdout",
     "output_type": "stream",
     "text": [
      "Did not converge, rerun simulation\n",
      "start and end freq: 10.720765125000003 19.297377225000005\n"
     ]
    },
    {
     "name": "stderr",
     "output_type": "stream",
     "text": [
      "100%|██████████| 5/5 [00:24<00:00,  4.93s/it]\n",
      "100%|██████████| 20/20 [01:37<00:00,  4.88s/it]\n"
     ]
    },
    {
     "data": {
      "application/vnd.jupyter.widget-view+json": {
       "model_id": "048f9fa1f6ea4e26af745ae361c2e91d",
       "version_major": 2,
       "version_minor": 0
      },
      "image/png": "[encoded data removed]",
      "text/html": [
       "\n",
       "            <div style=\"display: inline-block;\">\n",
       "                <div class=\"jupyter-widgets widget-label\" style=\"text-align: center;\">\n",
       "                    Figure\n",
       "                </div>\n",
       "                <img src='data:image/png;base64,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' width=1200.0/>\n",
       "            </div>\n",
       "        "
      ],
      "text/plain": [
       "Canvas(toolbar=Toolbar(toolitems=[('Home', 'Reset original view', 'home', 'home'), ('Back', 'Back to previous …"
      ]
     },
     "metadata": {},
     "output_type": "display_data"
    }
   ],
   "source": [
    "\n",
    "#master solve now will automatically cycle through different frequencies and output plot with the last value of the mesolve equation\n",
    "e = Experiment()\n",
    "\n",
    "#model init( cavityFreq = 3, cavityDecay = .1, qubitFreq = 10, qubitDecay = .01, noise = 0)\n",
    "#example of testing multiple models with experiment class\n",
    "m1 = Model()\n",
    "m1_d = Model(3, .8, 10, .1) #m1 with higher decay\n",
    "m2 = Model(4, .5, 20, .1, 0)\n",
    "m3 = Model(45, .7, 76, .4, 0 )\n",
    "\n",
    "\n",
    "#e.masterSolve_model(m1, 8, 16, 50)\n",
    "e.masterSolve_model(m1_d, 8, 16, 10)\n",
    "#e.masterSolve_model(m2, 8, 9, 10) #not converge ex\n",
    "#Note: about 4-6 seconds for each iter of mesolve to run\n",
    "\n",
    "# todo  \n",
    "# finish converge\n",
    "# do automated function to rerun until converges\n",
    "# clean up documentation\n"
   ]
  },
  {
   "cell_type": "code",
   "execution_count": 383,
   "metadata": {},
   "outputs": [],
   "source": [
    "N =  10 # should be much larger than average photon occupancy (>x10)\n",
    "# but as increase N sim will be slower -> decrease drive amplitudes\n",
    "# or to increase kappa for faster decay\n",
    "\n",
    "wr = 2.0 * 2 * np.pi  # resonator frequency\n",
    "wq = 2.0 * 2 * np.pi  # qubit frequency\n",
    "chi = 0.025 * 2 * np.pi  # parameter in the dispersive hamiltonian\n",
    "\n",
    "#initial vals, adjusted by function\n",
    "qubDrivAmp = 6\n",
    "cavDrivAmp = 8\n",
    "\n",
    "tlist = np.linspace(0, 250, 100)\n",
    "\n",
    "delta = abs(wr - wq)  # detuning\n",
    "g = np.sqrt(delta * chi)  # coupling strength that is consistent with chi"
   ]
  },
  {
   "cell_type": "code",
   "execution_count": 384,
   "metadata": {},
   "outputs": [
    {
     "data": {
      "text/plain": [
       "(0.0, 0.0)"
      ]
     },
     "execution_count": 384,
     "metadata": {},
     "output_type": "execute_result"
    }
   ],
   "source": [
    "# compare detuning and g, the first should be much larger than the second\n",
    "delta / (2 * np.pi), g / (2 * np.pi)"
   ]
  },
  {
   "cell_type": "code",
   "execution_count": 385,
   "metadata": {},
   "outputs": [],
   "source": [
    "# cavity operators\n",
    "a = tensor(destroy(N), qeye(2))\n",
    "nc = a.dag() * a\n",
    "xc = a + a.dag()\n",
    "\n",
    "# atomic operators\n",
    "sm = tensor(qeye(N), destroy(2))\n",
    "sz = tensor(qeye(N), sigmaz())\n",
    "sx = tensor(qeye(N), sigmax())\n",
    "nq = sm.dag() * sm\n",
    "xq = sm + sm.dag()\n",
    "\n",
    "Id = tensor(qeye(N), qeye(2))"
   ]
  },
  {
   "cell_type": "code",
   "execution_count": 386,
   "metadata": {},
   "outputs": [],
   "source": [
    "# dispersive hamiltonian\n",
    "# H0 is the time-independent part\n",
    "H0 = wr * (a.dag() * a + Id / 2.0) + (wq / 2.0) * sz + chi *(a.dag() * a + Id / 2) * sz\n",
    "# H0 = wr * (a.dag() * a) + wq * (sm.dag() * sm) + g* (a.dag()*sm + a*sm.dag())\n",
    "\n",
    "# H1 + are the time-dependent terms\n",
    "#qubit\n",
    "qubitH = sm.dag() + sm\n",
    "\n",
    "# NOTE this does not use RWA \n",
    "\n",
    "# TODO add ramp up time using tanh\n",
    "#TODO make param for h1 qubitDriveAmp, h2 cavity\n",
    "#VNApower\n",
    "def qub_coeff(t, args):\n",
    "    wd = args['wd']\n",
    "    return qubDrivAmp * np.cos(wd * t) #np.exp(-((t-50) / 50) ** 2) \n",
    "\n",
    "\n",
    "# H1 + are the time-dependent terms\n",
    "#cavity\n",
    "cavH = a.dag() + a\n",
    "\n",
    "# NOTE this does not use RWA \n",
    "def cav_coeff(t, args):\n",
    "    wd = args['wd']\n",
    "    return cavDrivAmp * np.cos(wd * t) #np.exp(-((t-50) / 50) ** 2) * \n",
    "\n",
    "# TODO add collapse operators\n",
    "decayQ = .01\n",
    "c_ops = [np.sqrt(decayQ) * sm]\n",
    "\n",
    "H = [H0, [qubitH, qub_coeff], [cavH, cav_coeff]]"
   ]
  },
  {
   "cell_type": "code",
   "execution_count": 387,
   "metadata": {},
   "outputs": [],
   "source": [
    "psi0 = tensor(basis(N, 0), (basis(2, 0)).unit())"
   ]
  },
  {
   "cell_type": "code",
   "execution_count": 388,
   "metadata": {},
   "outputs": [],
   "source": [
    "\n",
    "args = {'wd': wq+.1*wq}\n",
    "res = mesolve(H, psi0, tlist, c_ops, [], options=Options(nsteps=4000), args=args)\n",
    "\n"
   ]
  },
  {
   "cell_type": "code",
   "execution_count": 389,
   "metadata": {},
   "outputs": [],
   "source": [
    "nc_list = expect(nc, res.states)\n",
    "nq_list = expect(nq, res.states)"
   ]
  },
  {
   "cell_type": "code",
   "execution_count": 390,
   "metadata": {},
   "outputs": [],
   "source": [
    "# TODO plot steady state n value in qubit drive frequency domain"
   ]
  },
  {
   "cell_type": "code",
   "execution_count": 391,
   "metadata": {},
   "outputs": [
    {
     "name": "stdout",
     "output_type": "stream",
     "text": [
      "3.8929017049877115\n"
     ]
    }
   ],
   "source": [
    "print(nc_list[-1])"
   ]
  },
  {
   "cell_type": "code",
   "execution_count": 392,
   "metadata": {},
   "outputs": [
    {
     "name": "stdout",
     "output_type": "stream",
     "text": [
      "3.8929017049877115\n"
     ]
    }
   ],
   "source": [
    "print(nc_list[-1])"
   ]
  }
 ],
 "metadata": {
  "kernelspec": {
   "display_name": "activate",
   "language": "python",
   "name": "python3"
  },
  "language_info": {
   "codemirror_mode": {
    "name": "ipython",
    "version": 3
   },
   "file_extension": ".py",
   "mimetype": "text/x-python",
   "name": "python",
   "nbconvert_exporter": "python",
   "pygments_lexer": "ipython3",
   "version": "3.10.9"
  },
  "orig_nbformat": 4,
  "vscode": {
   "interpreter": {
    "hash": "c63951c27a3518e501cf50e7d732ffef1f3d063afacae5bbb49b9ac89729270a"
   }
  }
 },
 "nbformat": 4,
 "nbformat_minor": 2
}
